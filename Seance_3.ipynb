{
 "cells": [
  {
   "cell_type": "markdown",
   "metadata": {},
   "source": [
    "# Séance 3\n",
    "## Trier les structures de données\n",
    "Dans cette séance nous allons étudier comment et pourquoi trier notre structure de donnée."
   ]
  },
  {
   "cell_type": "markdown",
   "metadata": {},
   "source": [
    "### Rappels et reprise de la séance précédente\n",
    "Mais avant il nous faut reprendre comme point de départ les étapes réalisées dans les séances précédente. Commençons donc par importer nos outils et nos données.\n",
    "\n",
    "#### Imports des librairies nécessaires"
   ]
  },
  {
   "cell_type": "code",
   "execution_count": 1,
   "metadata": {},
   "outputs": [],
   "source": [
    "import csv    # import de la librairie CSV permettant la manipulation des fichiers (voir séance 1)\n",
    "from PythonSeance3.s3_correction import exo_import_donnee"
   ]
  },
  {
   "cell_type": "markdown",
   "metadata": {},
   "source": [
    "#### Import des données CSV\n",
    "Ecrivez ci-dessous le code de chargement du fichier passé en paramètre.\n",
    "Les noms de fichiers à votre disposition sont (du plus lourd au plus léger) :\n",
    "- nat2018_epured_5k.csv\n",
    "- nat2018_n20.csv\n",
    "- nat2018_r300"
   ]
  },
  {
   "cell_type": "code",
   "execution_count": null,
   "metadata": {},
   "outputs": [],
   "source": [
    "def importer_donnees(fichier):\n",
    "    #-------------------------\n",
    "    # insérez votre code ici  |\n",
    "    #-------------------------\n",
    "    return \n",
    "            # Retrournez les donnés chargées sous forme de liste de lignes (objet de type 'list')\n",
    "            # chaque ligne étant une liste des valeurs du fichier chargé"
   ]
  },
  {
   "cell_type": "code",
   "execution_count": 6,
   "metadata": {},
   "outputs": [],
   "source": [
    "def importer_donnees(fichier):\n",
    "    with open(fichier, encoding='utf-8-sig') as nat_file:\n",
    "        nat_data = csv.reader(nat_file, delimiter=';')\n",
    "        nat_list = []\n",
    "        for row in nat_data:\n",
    "            if nat_data.line_num == 1:\n",
    "                nat_list.append(row)\n",
    "            else:\n",
    "                nat_list.append([row[0], row[1], int(row[2]), int(row[3])])\n",
    "    return nat_list"
   ]
  },
  {
   "cell_type": "markdown",
   "metadata": {},
   "source": [
    "##### Vérification de la fonction d'import de donnée\n",
    "Exécutez les cellules ci-dessous pour vérifier le bon fonctionnement de votre code"
   ]
  },
  {
   "cell_type": "code",
   "execution_count": 2,
   "metadata": {},
   "outputs": [
    {
     "data": {
      "text/html": [
       "<table style='font-family:monospace;font-size:small;'><tr style='font-family:monospace;font-size:medium;'><th style='text-align: center;'><pre>Appel</pre></th><th style='text-align: center;'><pre>Resultat Attendu</pre></th></tr><tr><td><pre><pre>verifier_donnees(\n",
       "  'nat2018_epured_5k.csv',\n",
       "  1045)\n",
       "</pre></pre></td><td style='text-align: left;border-left:3px solid gray;'><pre>\n",
       "['1', 'AMAR', 1978, 87]</pre></td></tr><tr><td><pre>verifier_donnees('nat2018_r300.csv', 24)</pre></td><td style='text-align: left;border-left:3px solid gray;'><pre>\n",
       "['1', 'ADELAIDE', 1916, 3]</pre></td></tr><tr><td><pre><pre>verifier_donnees(\n",
       "  'nat2018_n20.csv',\n",
       "  12960)\n",
       "</pre></pre></td><td style='text-align: left;border-left:3px solid gray;'><pre>\n",
       "['1', 'TYMÉHO', 2013, 3]</pre></td></tr></table>"
      ],
      "text/plain": [
       "<IPython.core.display.HTML object>"
      ]
     },
     "execution_count": 2,
     "metadata": {},
     "output_type": "execute_result"
    }
   ],
   "source": [
    "exo_import_donnee.example(3)"
   ]
  },
  {
   "cell_type": "code",
   "execution_count": 4,
   "metadata": {},
   "outputs": [],
   "source": [
    "# Fonction de vérification de votre code d'import de donnée.\n",
    "# Cette fonction appelle la votre et vérifie aléatoirement certaines lignes de la liste \n",
    "def verifier_donnees(fichier, index):\n",
    "    liste = importer_donnees(fichier)\n",
    "    return liste[index]\n"
   ]
  },
  {
   "cell_type": "code",
   "execution_count": 7,
   "metadata": {},
   "outputs": [
    {
     "data": {
      "text/html": [
       "<table style='font-family:monospace;font-size:small;'><tr style='font-family:monospace;font-size:medium;'><th style='text-align: center;'><pre>Appel</pre></th><th style='text-align: center;'><pre>Attendu</pre></th><th style='text-align: center;'><pre>Obtenu</pre></th><th style='text-align: center;'><pre></pre></th></tr><tr style='background-color:#d6e9ce;border-bottom:2px solid gray;'><td><pre><pre>verifier_donnees(\n",
       "  'nat2018_epured_5k.csv',\n",
       "  1045)\n",
       "</pre></pre></td><td style='text-align: left;border-left:3px solid gray;'><pre>\n",
       "['1', 'AMAR', 1978, 87]</pre></td><td style='text-align: left;border-left:1px solid gray;'><pre>\n",
       "['1', 'AMAR', 1978, 87]</pre></td><td style='border-left:3px solid gray;'><pre>OK</pre></td></tr><tr style='background-color:#d6e9ce;border-bottom:2px solid gray;'><td><pre>verifier_donnees('nat2018_r300.csv', 24)</pre></td><td style='text-align: left;border-left:3px solid gray;'><pre>\n",
       "['1', 'ADELAIDE', 1916, 3]</pre></td><td style='text-align: left;border-left:1px solid gray;'><pre>\n",
       "['1', 'ADELAIDE', 1916, 3]</pre></td><td style='border-left:3px solid gray;'><pre>OK</pre></td></tr><tr style='background-color:#d6e9ce;border-bottom:2px solid gray;'><td><pre><pre>verifier_donnees(\n",
       "  'nat2018_n20.csv',\n",
       "  12960)\n",
       "</pre></pre></td><td style='text-align: left;border-left:3px solid gray;'><pre>\n",
       "['1', 'TYMÉHO', 2013, 3]</pre></td><td style='text-align: left;border-left:1px solid gray;'><pre>\n",
       "['1', 'TYMÉHO', 2013, 3]</pre></td><td style='border-left:3px solid gray;'><pre>OK</pre></td></tr><tr style='background-color:#d6e9ce;border-bottom:2px solid gray;'><td><pre><pre>verifier_donnees(\n",
       "  'nat2018_epured_5k.csv',\n",
       "  386)\n",
       "</pre></pre></td><td style='text-align: left;border-left:3px solid gray;'><pre>\n",
       "['1', 'ADRIAN', 1999, 133]</pre></td><td style='text-align: left;border-left:1px solid gray;'><pre>\n",
       "['1', 'ADRIAN', 1999, 133]</pre></td><td style='border-left:3px solid gray;'><pre>OK</pre></td></tr><tr style='background-color:#d6e9ce;border-bottom:2px solid gray;'><td><pre><pre>verifier_donnees(\n",
       "  'nat2018_epured_5k.csv',\n",
       "  85033)\n",
       "</pre></pre></td><td style='text-align: left;border-left:3px solid gray;'><pre>\n",
       "['2', '_PRENOMS_RARES', 2018, 27868]</pre></td><td style='text-align: left;border-left:1px solid gray;'><pre>\n",
       "['2', '_PRENOMS_RARES', 2018, 27868]</pre></td><td style='border-left:3px solid gray;'><pre>OK</pre></td></tr><tr style='background-color:#d6e9ce;border-bottom:2px solid gray;'><td><pre><pre>verifier_donnees(\n",
       "  'nat2018_r300.csv',\n",
       "  1043)\n",
       "</pre></pre></td><td style='text-align: left;border-left:3px solid gray;'><pre>\n",
       "['2', 'BAPTISTINE', 1900, 157]</pre></td><td style='text-align: left;border-left:1px solid gray;'><pre>\n",
       "['2', 'BAPTISTINE', 1900, 157]</pre></td><td style='border-left:3px solid gray;'><pre>OK</pre></td></tr><tr style='background-color:#efd6d6;border-bottom:2px solid gray;'><td><pre><pre>verifier_donnees(\n",
       "  'nat2018_r300.csv',\n",
       "  2121)\n",
       "</pre></pre></td><td style='text-align: left;border-left:3px solid gray;'><pre>\n",
       "IndexError('list index out of range')</pre></td><td style='text-align: left;border-left:1px solid gray;'><pre>\n",
       "IndexError('list index out of range')</pre></td><td style='border-left:3px solid gray;'><pre>KO</pre></td></tr><tr style='background-color:#efd6d6;border-bottom:2px solid gray;'><td><pre><pre>verifier_donnees(\n",
       "  'nat2018_n20.csv',\n",
       "  30083)\n",
       "</pre></pre></td><td style='text-align: left;border-left:3px solid gray;'><pre>\n",
       "IndexError('list index out of range')</pre></td><td style='text-align: left;border-left:1px solid gray;'><pre>\n",
       "IndexError('list index out of range')</pre></td><td style='border-left:3px solid gray;'><pre>KO</pre></td></tr></table>"
      ],
      "text/plain": [
       "<IPython.core.display.HTML object>"
      ]
     },
     "execution_count": 7,
     "metadata": {},
     "output_type": "execute_result"
    }
   ],
   "source": [
    "exo_import_donnee.correction(verifier_donnees)"
   ]
  },
  {
   "cell_type": "markdown",
   "metadata": {},
   "source": [
    "#### Calcul de l'age moyen\n",
    "Reprenons ici le code pour calculer l'age moyen d'un prénom, puis généralisons le pour générer une table."
   ]
  },
  {
   "cell_type": "code",
   "execution_count": null,
   "metadata": {},
   "outputs": [],
   "source": [
    "# Extrait de la structure de donnée telle qu'elle est créée à l'import\n",
    "prenom_data = [[\"2\",\"RAYMONDE\",\"1954\",\"831\"],\n",
    "[\"2\",\"RAYMONDE\",\"1955\",\"719\"],\n",
    "[\"2\",\"RAYMONDE\",\"1956\",\"649\"],\n",
    "[\"2\",\"RAYMONDE\",\"1957\",\"564\"],\n",
    "[\"2\",\"RAYMONDE\",\"1958\",\"508\"],\n",
    "[\"2\",\"RAYMONDE\",\"1959\",\"488\"],\n",
    "[\"2\",\"RAYMONDE\",\"1960\",\"381\"],\n",
    "[\"2\",\"RAYMONDE\",\"1961\",\"299\"],\n",
    "[\"2\",\"RAYMONDE\",\"1962\",\"280\"],\n",
    "[\"2\",\"RAYMONDE\",\"1963\",\"241\"],\n",
    "[\"2\",\"RAYMONDE\",\"1964\",\"217\"],\n",
    "[\"2\",\"RAYMONDE\",\"1965\",\"165\"],\n",
    "[\"2\",\"RAYMONDE\",\"1966\",\"155\"],\n",
    "[\"2\",\"RAYMONDE\",\"1967\",\"138\"]]"
   ]
  },
  {
   "cell_type": "code",
   "execution_count": null,
   "metadata": {},
   "outputs": [],
   "source": [
    "def age_moyen(donnees):\n",
    "    #-------------------------\n",
    "    # insérez votre code ici  |\n",
    "    #-------------------------\n",
    "    return \n",
    "            # Retrournez la valeur de l'age moyen en int"
   ]
  },
  {
   "cell_type": "code",
   "execution_count": null,
   "metadata": {},
   "outputs": [],
   "source": [
    "importer_donnees('nat2018_epured_5k.csv')"
   ]
  }
 ],
 "metadata": {
  "kernelspec": {
   "display_name": "Python 3",
   "language": "python",
   "name": "python3"
  },
  "language_info": {
   "codemirror_mode": {
    "name": "ipython",
    "version": 3
   },
   "file_extension": ".py",
   "mimetype": "text/x-python",
   "name": "python",
   "nbconvert_exporter": "python",
   "pygments_lexer": "ipython3",
   "version": "3.7.6"
  }
 },
 "nbformat": 4,
 "nbformat_minor": 4
}
