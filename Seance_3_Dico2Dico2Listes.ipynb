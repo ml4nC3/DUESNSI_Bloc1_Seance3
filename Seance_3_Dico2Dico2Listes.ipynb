{
 "cells": [
  {
   "cell_type": "markdown",
   "metadata": {},
   "source": [
    "# Séance 3\n",
    "## Introduction\n",
    "Le but de cette séance est de procéder à diverses opérations sur une structure de donnée afin d'en identifier les avantages et inconvénients et les comparer avec d'autres.\n",
    "\n",
    "Dans cette séance vous travaillerez sur un dictionnaire de listes."
   ]
  },
  {
   "cell_type": "markdown",
   "metadata": {},
   "source": [
    "### Rappels et reprise de la séance précédente\n",
    "Mais avant il nous faut reprendre comme point de départ les étapes réalisées dans les séances précédente. Commençons donc par importer nos outils et nos données.\n",
    "\n",
    "#### Imports des librairies nécessaires"
   ]
  },
  {
   "cell_type": "code",
   "execution_count": 1,
   "metadata": {},
   "outputs": [],
   "source": [
    "import csv    # import de la librairie CSV permettant la manipulation des fichiers (voir séance 1)\n",
    "from PythonSeance3.s3_correction import exo_import_donnee, exo_calcul_moyennes"
   ]
  },
  {
   "cell_type": "markdown",
   "metadata": {},
   "source": [
    "#### Import des données CSV\n",
    "Ecrivez ci-dessous le code de chargement du fichier passé en paramètre.\n",
    "Les noms de fichiers à votre disposition sont (du plus lourd au plus léger) :\n",
    "- nat2018_epured_5k.csv\n",
    "- nat2018_n20.csv\n",
    "- nat2018_r300.csv"
   ]
  },
  {
   "cell_type": "code",
   "execution_count": null,
   "metadata": {},
   "outputs": [],
   "source": [
    "def importer_donnees(fichier):\n",
    "    #-------------------------\n",
    "    # insérez votre code ici  |\n",
    "    #-------------------------\n",
    "    return \n",
    "            # Retrournez les donnés chargées sous forme de liste de lignes (objet de type 'list')\n",
    "            # chaque ligne étant une liste des valeurs du fichier chargé\n",
    "            # Le format attendu est [ String, String, Int, Int ]"
   ]
  },
  {
   "cell_type": "code",
   "execution_count": 2,
   "metadata": {},
   "outputs": [],
   "source": [
    "#!!!!!!!!!!!!!!!!\n",
    "# CORRECTION  !!!\n",
    "# A SUPPRIMER !!!\n",
    "#!!!!!!!!!!!!!!!!\n",
    "\n",
    "def importer_donnees(fichier):\n",
    "    with open(fichier, encoding='utf-8-sig') as nat_file:\n",
    "        nat_data = csv.reader(nat_file, delimiter=';')\n",
    "        nat_dict = dict()\n",
    "        for row in nat_data:\n",
    "            if nat_data.line_num != 1:\n",
    "                genre = int(row[0]) - 1 # Conversion : 0 = homme, 1 = Femme\n",
    "                prenom = row[1]\n",
    "                annee = int(row[2])\n",
    "                # Si le prénom n'est pas présent dans la structure : intialisation\n",
    "                if prenom not in nat_dict:\n",
    "                    nat_dict[prenom] = {annee: [0,0]}\n",
    "                    \n",
    "                # Si l'annee n'existe pas encore pour le prénom en cours : initialisation\n",
    "                if annee not in nat_dict[prenom]: # l'année n'est pas créée\n",
    "                    nat_dict[prenom][annee] = [0,0]\n",
    "                \n",
    "                # Valorisation de l'effectif\n",
    "                nat_dict[prenom][annee][genre] = int(row[3])\n",
    "                        \n",
    "    return nat_dict"
   ]
  },
  {
   "cell_type": "code",
   "execution_count": 3,
   "metadata": {
    "scrolled": false
   },
   "outputs": [
    {
     "data": {
      "text/plain": [
       "1481"
      ]
     },
     "execution_count": 3,
     "metadata": {},
     "output_type": "execute_result"
    }
   ],
   "source": [
    "#!!!!!!!!!!!!!!!!\n",
    "# CORRECTION  !!!\n",
    "# A SUPPRIMER !!!\n",
    "#!!!!!!!!!!!!!!!!\n",
    "data = importer_donnees(\"nat2018_epured_5k.csv\")\n",
    "# Accéder aux données d'un prénom pour une année déterminée :\n",
    "data[\"CLAUDE\"][1934][1]"
   ]
  },
  {
   "cell_type": "code",
   "execution_count": null,
   "metadata": {},
   "outputs": [],
   "source": [
    "exo_import_donnee.example(3)"
   ]
  },
  {
   "cell_type": "markdown",
   "metadata": {},
   "source": [
    "##### Vérification de la fonction d'import de donnée\n",
    "Exécutez la cellule ci-dessous pour vérifier le bon fonctionnement de votre code."
   ]
  },
  {
   "cell_type": "code",
   "execution_count": null,
   "metadata": {},
   "outputs": [],
   "source": [
    "# Fonction de vérification de votre code d'import de donnée.\n",
    "# Cette fonction appelle la votre et vérifie certaines lignes de la liste générée par votre import\n",
    "def verifier_import(fichier, index):\n",
    "    liste = importer_donnees(fichier)\n",
    "    return liste[index]\n",
    "\n",
    "# Puis les compare avec celles attendues\n",
    "exo_import_donnee.correction(verifier_import)"
   ]
  },
  {
   "cell_type": "markdown",
   "metadata": {},
   "source": [
    "#### Calcul de l'age moyen\n",
    "Reprenons ici le code pour calculer l'age moyen d'un prénom, puis généralisons le pour générer une table."
   ]
  },
  {
   "cell_type": "markdown",
   "metadata": {},
   "source": [
    "Reprenez ci-dessous le code permettant de calculer l'age moyen :"
   ]
  },
  {
   "cell_type": "code",
   "execution_count": null,
   "metadata": {},
   "outputs": [],
   "source": [
    "def ages_moyens(donnees):\n",
    "    #-------------------------\n",
    "    # insérez votre code ici  |\n",
    "    #-------------------------\n",
    "    return # Retrournez la liste des ages moyens"
   ]
  },
  {
   "cell_type": "code",
   "execution_count": 4,
   "metadata": {},
   "outputs": [],
   "source": [
    "#!!!!!!!!!!!!!!!!\n",
    "# CORRECTION  !!!\n",
    "# A SUPPRIMER !!!\n",
    "#!!!!!!!!!!!!!!!!\n",
    "\n",
    "def ages_moyens(data):\n",
    "    aver_ages = dict()\n",
    "    for name in data.keys():\n",
    "        calc = {0: {\"sum_ages\": 0, \"sum_births\": 0}, \n",
    "                1: {\"sum_ages\": 0, \"sum_births\": 0}}\n",
    "        # Parcours des années enregistrées pour le prénom\n",
    "        for year in data[name].keys():\n",
    "            # Calcul des variables pour hommes puis femmes\n",
    "            for gender, births in enumerate(data[name][year]):\n",
    "                calc[gender][\"sum_ages\"] += (2020 - year) * births  # Somme des ages pondérée par les naissances\n",
    "                calc[gender][\"sum_births\"] += births                # Somme des naissances\n",
    "        \n",
    "        # Initalisation du dictionnaire pour le prénom en cours\n",
    "        aver_ages[name] = dict()\n",
    "        \n",
    "        # Calcul de l'age moyen pondéré total\n",
    "        total_ages   = calc[0][\"sum_ages\"] + calc[1][\"sum_ages\"]\n",
    "        total_births = calc[0][\"sum_births\"] + calc[1][\"sum_births\"]\n",
    "        aver_ages[name][\"total\"] = total_ages / total_births\n",
    "        \n",
    "        # Gestion du cas de division par 0 et calcul pour hommes et femmes\n",
    "        if calc[0][\"sum_births\"] != 0:\n",
    "            aver_ages[name][\"hommes\"] = calc[0][\"sum_ages\"] / calc[0][\"sum_births\"]\n",
    "        \n",
    "        if calc[1][\"sum_births\"] != 0:\n",
    "            aver_ages[name][\"femmes\"] = calc[1][\"sum_ages\"] / calc[1][\"sum_births\"]        \n",
    "    \n",
    "    return aver_ages\n",
    "            "
   ]
  },
  {
   "cell_type": "code",
   "execution_count": 5,
   "metadata": {},
   "outputs": [
    {
     "data": {
      "text/plain": [
       "{'total': 37.303051495845835,\n",
       " 'hommes': 37.27309503085932,\n",
       " 'femmes': 88.20588235294117}"
      ]
     },
     "execution_count": 5,
     "metadata": {},
     "output_type": "execute_result"
    }
   ],
   "source": [
    "moy = ages_moyens(data)\n",
    "moy[\"NICOLAS\"]"
   ]
  },
  {
   "cell_type": "markdown",
   "metadata": {},
   "source": [
    "##### Vérification de la fonction de calcul des moyennes\n",
    "Exécutez la cellule ci-dessous pour vérifier le bon fonctionnement de votre code."
   ]
  },
  {
   "cell_type": "code",
   "execution_count": null,
   "metadata": {},
   "outputs": [],
   "source": [
    "def verifier_aver_ages(fichier, index):\n",
    "    liste = importer_donnees(fichier)\n",
    "    moyennes = ages_moyens(liste)\n",
    "    return int(moyennes[index][2])\n",
    "\n",
    "exo_calcul_moyennes.correction(verifier_aver_ages)"
   ]
  },
  {
   "cell_type": "markdown",
   "metadata": {},
   "source": [
    "## Top 5 des vieux et jeunes prénoms \n",
    "\n",
    "Maintenant que nous avons une structure de donnée calculée"
   ]
  },
  {
   "cell_type": "markdown",
   "metadata": {},
   "source": [
    "## Retourner l'age moyen d'un prénom\n",
    "\n"
   ]
  },
  {
   "cell_type": "code",
   "execution_count": null,
   "metadata": {},
   "outputs": [],
   "source": [
    "{\"prénom\":   [colonne 1], \n",
    " \"année\":    [colonne 2],\n",
    " \"femmes\":   [colonne 3],\n",
    " \"hommes\":   [colonne 4]}"
   ]
  }
 ],
 "metadata": {
  "kernelspec": {
   "display_name": "Python 3",
   "language": "python",
   "name": "python3"
  },
  "language_info": {
   "codemirror_mode": {
    "name": "ipython",
    "version": 3
   },
   "file_extension": ".py",
   "mimetype": "text/x-python",
   "name": "python",
   "nbconvert_exporter": "python",
   "pygments_lexer": "ipython3",
   "version": "3.7.6"
  }
 },
 "nbformat": 4,
 "nbformat_minor": 4
}
