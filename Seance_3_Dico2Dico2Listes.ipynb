{
 "cells": [
  {
   "cell_type": "markdown",
   "metadata": {},
   "source": [
    "# Séance 3 - Dictionnaire de dictionnaires de listes de nombres de chiffres...\n",
    "## Introduction\n",
    "Le but de cette séance est de procéder à diverses opérations sur une structure de donnée afin d'en identifier les avantages et inconvénients et les comparer avec d'autres.\n",
    "\n",
    "Dans cette séance vous travaillerez sur un dictionnaire de dictionnaires de listes."
   ]
  },
  {
   "cell_type": "markdown",
   "metadata": {},
   "source": [
    "### Rappels et reprise de la séance précédente\n",
    "Mais avant il nous faut reprendre comme point de départ les étapes réalisées dans les séances précédente. Commençons donc par importer nos outils et nos données.\n",
    "\n",
    "#### Imports des librairies nécessaires"
   ]
  },
  {
   "cell_type": "code",
   "execution_count": null,
   "metadata": {},
   "outputs": [],
   "source": [
    "import csv    # import de la librairie CSV permettant la manipulation des fichiers (voir séance 1)\n",
    "from PythonSeance3.d2d2l_s3_correction import exo_import_donnee, exo_calcul_moyennes"
   ]
  },
  {
   "cell_type": "markdown",
   "metadata": {},
   "source": [
    "#### Import des données CSV\n",
    "Ecrivez ci-dessous le code de chargement du fichier passé en paramètre.\n",
    "Les noms de fichiers à votre disposition sont (du plus lourd au plus léger) :\n",
    "- nat2018_epured_5k.csv\n",
    "- nat2018_n20.csv\n",
    "- nat2018_r300.csv"
   ]
  },
  {
   "cell_type": "code",
   "execution_count": null,
   "metadata": {},
   "outputs": [],
   "source": [
    "def importer_donnees(fichier):\n",
    "    #-------------------------\n",
    "    # insérez votre code ici  |\n",
    "    #-------------------------\n",
    "    return \n",
    "            # Retrournez les donnés chargées sous forme de liste de lignes (objet de type 'list')\n",
    "            # chaque ligne étant une liste des valeurs du fichier chargé\n",
    "            # Le format attendu est [ String, String, Int, Int ]"
   ]
  },
  {
   "cell_type": "code",
   "execution_count": null,
   "metadata": {},
   "outputs": [],
   "source": [
    "exo_import_donnee.example(3)"
   ]
  },
  {
   "cell_type": "markdown",
   "metadata": {},
   "source": [
    "##### Vérification de la fonction d'import de donnée\n",
    "Exécutez la cellule ci-dessous pour vérifier le bon fonctionnement de votre code."
   ]
  },
  {
   "cell_type": "code",
   "execution_count": null,
   "metadata": {},
   "outputs": [],
   "source": [
    "# Fonction de vérification de votre code d'import de donnée.\n",
    "# Cette fonction appelle la votre et vérifie certaines lignes de la liste générée par votre import\n",
    "def verifier_donnees(fichier, prenom, annee):\n",
    "    data = importer_donnees(fichier)\n",
    "    return data[prenom][annee]\n",
    "\n",
    "# Puis les compare avec celles attendues\n",
    "exo_import_donnee.correction(verifier_donnees)"
   ]
  },
  {
   "cell_type": "markdown",
   "metadata": {},
   "source": [
    "#### Calcul de l'age moyen\n",
    "Reprenons ici le code pour calculer l'age moyen d'un prénom, puis généralisons le pour générer une table."
   ]
  },
  {
   "cell_type": "markdown",
   "metadata": {},
   "source": [
    "Reprenez ci-dessous le code permettant de calculer l'age moyen :"
   ]
  },
  {
   "cell_type": "code",
   "execution_count": null,
   "metadata": {},
   "outputs": [],
   "source": [
    "def ages_moyens(donnees):\n",
    "    #-------------------------\n",
    "    # insérez votre code ici  |\n",
    "    #-------------------------\n",
    "    return # Retrournez la liste des ages moyens"
   ]
  },
  {
   "cell_type": "markdown",
   "metadata": {},
   "source": [
    "##### Vérification de la fonction de calcul des moyennes\n",
    "Exécutez la cellule ci-dessous pour vérifier le bon fonctionnement de votre code."
   ]
  },
  {
   "cell_type": "code",
   "execution_count": null,
   "metadata": {},
   "outputs": [],
   "source": [
    "# Fonction de vérification de votre code d'import de donnée.\n",
    "# Cette fonction appelle la votre et vérifie certaines lignes de la liste générée par votre import\n",
    "def verifier_aver_ages(fichier, prenom):\n",
    "    data = importer_donnees(fichier)\n",
    "    moyennes = ages_moyens(data)\n",
    "    return moyennes[prenom]\n",
    "\n",
    "# Puis les compare avec celles attendues\n",
    "exo_calcul_moyennes.correction(verifier_aver_ages)"
   ]
  },
  {
   "cell_type": "markdown",
   "metadata": {},
   "source": [
    "## Exploiter les données\n",
    "\n",
    "Nous avons maintenant à notre disposition 2 structures de données : \n",
    "* Une structure \"brute\" contenant les données de départ.\n",
    "* Une structure calculée contenant les ages moyens par prénom et par sexe.\n",
    "\n",
    "L'objectif maintenant est d'effectuer des traitements sur ces données afin d'en extraire des informations, des indicateurs ou une analyse.\n",
    "\n",
    "<div style=\"width: 95%;border: 1px solid gray;margin: 20px;  margin-left: auto; margin-right: auto;padding: 5px; background-color: lightyellow\">\n",
    "    <b>Répartition du travail</b><br/>\n",
    "    Les objectifs suivants ne peuvent être faits seuls dans le temps imparti. Répartissez-vous les tâches et entre-aidez vous.\n",
    "</div>\n"
   ]
  },
  {
   "cell_type": "markdown",
   "metadata": {},
   "source": [
    "### Créer des Top 5\n",
    "Ci-dessous les informations nécessaires à la réalisation de cette partie.\n",
    "\n",
    "\n",
    "<table style=\"width:95%; \">\n",
    "    <tr>\n",
    "        <td style=\"border: 1px solid gray;padding: 5px;text-align:left\" colspan=\"2\">\n",
    "            <b>Résultat attendu</b><br/>\n",
    "            <p>Il s'agit ici d'écrire une fonction qui renvoi les 5 prénoms les plus jeunes sur la base de l'age moyen calculé dans la seconde structure. </p>\n",
    "        </td>\n",
    "    </tr>\n",
    "    <tr>\n",
    "        <td style=\"border: 1px solid gray;padding: 5px;text-align:left\">\n",
    "            <b>Coup de pouce</b><br/>\n",
    "            <p>Une façon </p>\n",
    "        </td>\n",
    "        <td style=\"border: 1px solid gray;padding: 5px;text-align:left\">\n",
    "            <b>Idée défi</b><br/>\n",
    "            <p>Déjà fini ? Si ce n'est pas encore fait, envisagez d'optimiser votre programme :<ul>\n",
    "                <li>avec des \"slices\" (voir google).</li>\n",
    "                <li>Si vous passez par des structures intermédiaires, envisagez de les créer \"par compréhension\" (voir google).</li>\n",
    "                </ul>\n",
    "            </p>\n",
    "        </td>\n",
    "    </tr>\n",
    "</table>"
   ]
  },
  {
   "cell_type": "markdown",
   "metadata": {},
   "source": [
    "### Exercice 2 : Retourner l'age moyen d'un prénom donné\n",
    "Ci-dessous les informations nécessaires à la réalisation de cette partie.\n",
    "\n",
    "\n",
    "<table style=\"width:95%; \">\n",
    "    <tr>\n",
    "        <td style=\"border: 1px solid gray;padding: 5px;text-align:left\" colspan=\"2\">\n",
    "            <b>Résultat attendu</b><br/>\n",
    "            <p>Il s'agit ici d'écrire un code qui renvoi l'age moyen d'un prénom entré par l'utilisateur.</p>\n",
    "        </td>\n",
    "    </tr>\n",
    "    <tr>\n",
    "        <td style=\"border: 1px solid gray;padding: 5px;text-align:left\">\n",
    "            <b>Coup de pouce</b><br/>\n",
    "            <p>Pour demander une valeur utilisez la fonction input(). Pour cette structure il va falloir parcourir les données jusqu'à tomber sur la bonne ligne puis afficher les données désirées. </p>\n",
    "        </td>\n",
    "        <td style=\"border: 1px solid gray;padding: 5px;text-align:left\">\n",
    "            <b>Idée défi</b><br/>\n",
    "            <p>Déjà fini ? Avez-vous géré les prénoms unisexes ?<br/>\n",
    "                Retournez les données de tous les prénoms qui commencent par une chaine de caractère donnée.\n",
    "            </p>\n",
    "        </td>\n",
    "    </tr>\n",
    "</table>"
   ]
  },
  {
   "cell_type": "code",
   "execution_count": null,
   "metadata": {},
   "outputs": [],
   "source": [
    "# Votre code ici"
   ]
  },
  {
   "cell_type": "markdown",
   "metadata": {},
   "source": [
    "### Exercice 3 : Afficher un graphique du nombre de naissance par an d'un prénom donné\n",
    "Ci-dessous les informations nécessaires à la réalisation de cette partie.\n",
    "\n",
    "\n",
    "<table style=\"width:95%; \">\n",
    "    <tr>\n",
    "        <td style=\"border: 1px solid gray;padding: 5px;text-align:left\" colspan=\"2\">\n",
    "            <b>Résultat attendu</b><br/>\n",
    "            <p>Il s'agit ici d'écrire un code qui demande un prénom et qui affiche l'évolution du nombre de naissances par an.</p>\n",
    "        </td>\n",
    "    </tr>\n",
    "    <tr>\n",
    "        <td style=\"border: 1px solid gray;padding: 5px;text-align:left\">\n",
    "            <b>Coup de pouce</b><br/>\n",
    "            <p>Pour demander une valeur utilisez la fonction input(). Pour afficher un graphique utilisez la librairie matplotlib.</p>\n",
    "        </td>\n",
    "        <td style=\"border: 1px solid gray;padding: 5px;text-align:left\">\n",
    "            <b>Idée défi</b><br/>\n",
    "            <p>Déjà fini ? Avez-vous géré les prénoms unisexes ?<br/>\n",
    "                Si oui, envisagez d'ajouter une droite correspondant à l'age moyen sur le même graphique.\n",
    "            </p>\n",
    "        </td>\n",
    "    </tr>\n",
    "</table>"
   ]
  },
  {
   "cell_type": "code",
   "execution_count": null,
   "metadata": {},
   "outputs": [],
   "source": [
    "# Votre code ici"
   ]
  },
  {
   "cell_type": "markdown",
   "metadata": {},
   "source": [
    "### Exercice 4 : Afficher un graphique du nombre de prénoms différents par an\n",
    "Ci-dessous les informations nécessaires à la réalisation de cette partie.\n",
    "\n",
    "\n",
    "<table style=\"width:95%; \">\n",
    "    <tr>\n",
    "        <td style=\"border: 1px solid gray;padding: 5px;text-align:left\" colspan=\"2\">\n",
    "            <b>Résultat attendu</b><br/>\n",
    "            <p>Il s'agit ici d'écrire un code qui affiche un histogramme du nombre de prénoms différents pour chaque année.</p>\n",
    "        </td>\n",
    "    </tr>\n",
    "    <tr>\n",
    "        <td style=\"border: 1px solid gray;padding: 5px;text-align:left\">\n",
    "            <b>Coup de pouce</b><br/>\n",
    "            <p>Pour afficher un graphique utilisez la librairie matplotlib. Vous devrez passer par une structure intermédiaire qui contient le nombre de prénom par année, triée par année.</p>\n",
    "        </td>\n",
    "        <td style=\"border: 1px solid gray;padding: 5px;text-align:left\">\n",
    "            <b>Idée défi</b><br/>\n",
    "            <p>Déjà fini ? Avez-vous géré les prénoms unisexes ?<br/>\n",
    "                Si oui, plus dur : affichez un historgramme du nombre de naissances total par an, avec répartition par couleur des prénoms donnés chaque année (histogrammes empilé par prénom).\n",
    "            </p>\n",
    "        </td>\n",
    "    </tr>\n",
    "</table>"
   ]
  },
  {
   "cell_type": "code",
   "execution_count": null,
   "metadata": {},
   "outputs": [],
   "source": [
    "# Votre code ici"
   ]
  },
  {
   "cell_type": "markdown",
   "metadata": {},
   "source": [
    "# FIN\n",
    "Discutez de votre travail avec vos camarades de groupe afin que vous ayez tous rempli la fiche d'analyse entièrement et que vous puissiez comparer les résutlats du groupe avec celui des autres."
   ]
  }
 ],
 "metadata": {
  "kernelspec": {
   "display_name": "Python 3",
   "language": "python",
   "name": "python3"
  },
  "language_info": {
   "codemirror_mode": {
    "name": "ipython",
    "version": 3
   },
   "file_extension": ".py",
   "mimetype": "text/x-python",
   "name": "python",
   "nbconvert_exporter": "python",
   "pygments_lexer": "ipython3",
   "version": "3.7.6"
  }
 },
 "nbformat": 4,
 "nbformat_minor": 4
}
