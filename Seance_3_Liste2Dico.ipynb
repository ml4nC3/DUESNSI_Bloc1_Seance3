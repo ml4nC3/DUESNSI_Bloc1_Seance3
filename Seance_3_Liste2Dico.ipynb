{
 "cells": [
  {
   "cell_type": "markdown",
   "metadata": {},
   "source": [
    "# Séance 3\n",
    "## Introduction\n",
    "Le but de cette séance est de procéder à diverses opérations sur une structure de donnée afin d'en identifier les avantages et inconvénients et les comparer avec d'autres.\n",
    "\n",
    "Dans cette séance vous travaillerez sur une liste de dictionnaires."
   ]
  },
  {
   "cell_type": "markdown",
   "metadata": {},
   "source": [
    "### Rappels et reprise de la séance précédente\n",
    "Mais avant il nous faut reprendre comme point de départ les étapes réalisées dans les séances précédente. Commençons donc par importer nos outils et nos données.\n",
    "\n",
    "#### Imports des librairies nécessaires"
   ]
  },
  {
   "cell_type": "code",
   "execution_count": 1,
   "metadata": {},
   "outputs": [],
   "source": [
    "import csv    # import de la librairie CSV permettant la manipulation des fichiers (voir séance 1)\n",
    "from PythonSeance3.l2d_s3_correction import exo_import_donnee, exo_calcul_moyennes"
   ]
  },
  {
   "cell_type": "markdown",
   "metadata": {},
   "source": [
    "#### Import des données CSV\n",
    "Ecrivez ci-dessous le code de chargement du fichier passé en paramètre.\n",
    "Les noms de fichiers à votre disposition sont (du plus lourd au plus léger) :\n",
    "- nat2018_epured_5k.csv\n",
    "- nat2018_n20.csv\n",
    "- nat2018_r300.csv"
   ]
  },
  {
   "cell_type": "code",
   "execution_count": null,
   "metadata": {},
   "outputs": [],
   "source": [
    "def importer_donnees(fichier):\n",
    "    #-------------------------\n",
    "    # insérez votre code ici  |\n",
    "    #-------------------------\n",
    "    return \n",
    "            # Retrournez les donnés chargées sous forme de liste de lignes (objet de type 'list')\n",
    "            # chaque ligne étant une liste des valeurs du fichier chargé\n",
    "            # Le format attendu est [ String, String, Int, Int ]"
   ]
  },
  {
   "cell_type": "code",
   "execution_count": 2,
   "metadata": {},
   "outputs": [],
   "source": [
    "#!!!!!!!!!!!!!!!!\n",
    "# CORRECTION  !!!\n",
    "# A SUPPRIMER !!!\n",
    "#!!!!!!!!!!!!!!!!\n",
    "\n",
    "def importer_donnees(fichier):\n",
    "    with open(fichier, encoding='utf-8-sig') as nat_file:\n",
    "        nat_data = csv.reader(nat_file, delimiter=';')\n",
    "        nat_list = []\n",
    "        for row in nat_data:\n",
    "            if nat_data.line_num != 1:\n",
    "                nat_list.append({\"sexe\": row[0], \"prenom\": row[1], \"annee\": int(row[2]), \"effectif\": int(row[3])})\n",
    "    return nat_list"
   ]
  },
  {
   "cell_type": "code",
   "execution_count": null,
   "metadata": {},
   "outputs": [],
   "source": [
    "exo_import_donnee.example(3)"
   ]
  },
  {
   "cell_type": "markdown",
   "metadata": {},
   "source": [
    "##### Vérification de la fonction d'import de donnée\n",
    "Exécutez la cellule ci-dessous pour vérifier le bon fonctionnement de votre code."
   ]
  },
  {
   "cell_type": "code",
   "execution_count": null,
   "metadata": {
    "scrolled": false
   },
   "outputs": [],
   "source": [
    "# Fonction de vérification de votre code d'import de donnée.\n",
    "# Cette fonction appelle la votre et vérifie certaines lignes de la liste générée par votre import\n",
    "def verifier_import(fichier, index):\n",
    "    liste = importer_donnees(fichier)\n",
    "    return liste[index]\n",
    "\n",
    "# Puis les compare avec celles attendues\n",
    "exo_import_donnee.correction(verifier_import)"
   ]
  },
  {
   "cell_type": "markdown",
   "metadata": {},
   "source": [
    "#### Calcul de l'age moyen\n",
    "Reprenons ici le code pour calculer l'age moyen d'un prénom, puis généralisons le pour générer une table."
   ]
  },
  {
   "cell_type": "markdown",
   "metadata": {},
   "source": [
    "Reprenez ci-dessous le code permettant de calculer l'age moyen :"
   ]
  },
  {
   "cell_type": "code",
   "execution_count": null,
   "metadata": {},
   "outputs": [],
   "source": [
    "def ages_moyens(donnees):\n",
    "    #-------------------------#\n",
    "    # insérez votre code ici  #\n",
    "    #-------------------------#\n",
    "    return # Retrournez la liste des ages moyens"
   ]
  },
  {
   "cell_type": "code",
   "execution_count": 3,
   "metadata": {},
   "outputs": [],
   "source": [
    "#!!!!!!!!!!!!!!!!\n",
    "# CORRECTION  !!!\n",
    "# A SUPPRIMER !!!\n",
    "#!!!!!!!!!!!!!!!!\n",
    "\n",
    "def ages_moyens(datas):\n",
    "    aver_ages = [{\"sexe\": datas[0][\"sexe\"], \"prenom\": datas[0][\"prenom\"]}]  # Initialisation du premier nom de la liste\n",
    "    sum_ages, sum_count = 0, 0                                        # Initialisation des variables de comptage\n",
    "    \n",
    "    for record in datas:\n",
    "        if (record[\"sexe\"], record[\"prenom\"]) == (aver_ages[-1][\"sexe\"], aver_ages[-1][\"prenom\"]): \n",
    "            # Si le sexe et le nom sont égaux à l'enregistrement en cours\n",
    "            sum_ages = sum_ages + (2020 - record[\"annee\"]) * record[\"effectif\"]   # Calcul de l'age pondéré par l'effectif\n",
    "            sum_count = sum_count + record[\"effectif\"]                            # Calcul des effectifs totaux (dénominateur)\n",
    "        else:\n",
    "            # Si le nom change on ajoute l'age moyen à la dernière ligne\n",
    "            aver_ages[-1][\"average\"] = sum_ages / sum_count \n",
    "            aver_ages.append({\"sexe\": record[\"sexe\"], \"prenom\": record[\"prenom\"]})   # Ajout du nouveau nom dans une nouvelle ligne\n",
    "            sum_ages = (2020 - record[\"annee\"]) * record[\"effectif\"]                  # Calcul du premier age pondéré\n",
    "            sum_count = record[\"effectif\"]                                           # Initialisation de la somme des effectifs\n",
    "    \n",
    "    aver_ages[-1][\"average\"] = sum_ages / sum_count  # On met à jour l'age moyen du dernier prénom dans la dernière ligne\n",
    "    return aver_ages"
   ]
  },
  {
   "cell_type": "code",
   "execution_count": null,
   "metadata": {},
   "outputs": [],
   "source": [
    "data = importer_donnees('nat2018_epured_5k.csv')\n",
    "avg = ages_moyens(data)\n",
    "len(avg)"
   ]
  },
  {
   "cell_type": "markdown",
   "metadata": {},
   "source": [
    "##### Vérification de la fonction de calcul des moyennes\n",
    "Exécutez la cellule ci-dessous pour vérifier le bon fonctionnement de votre code."
   ]
  },
  {
   "cell_type": "code",
   "execution_count": 4,
   "metadata": {},
   "outputs": [
    {
     "data": {
      "text/html": [
       "<table style='font-family:monospace;font-size:small;'><tr style='font-family:monospace;font-size:medium;'><th style='text-align: center;'><pre>Appel</pre></th><th style='text-align: center;'><pre>Attendu</pre></th><th style='text-align: center;'><pre>Obtenu</pre></th><th style='text-align: center;'><pre></pre></th></tr><tr style='background-color:#d6e9ce;border-bottom:2px solid gray;'><td><pre><pre>verifier_aver_ages(\n",
       "  'nat2018_epured_5k.csv',\n",
       "  1045)\n",
       "</pre></pre></td><td style='text-align: left;border-left:3px solid gray;'><pre>\n",
       "69</pre></td><td style='text-align: left;border-left:1px solid gray;'><pre>\n",
       "69</pre></td><td style='border-left:3px solid gray;'><pre>OK</pre></td></tr><tr style='background-color:#d6e9ce;border-bottom:2px solid gray;'><td><pre><pre>verifier_aver_ages(\n",
       "  'nat2018_r300.csv',\n",
       "  24)\n",
       "</pre></pre></td><td style='text-align: left;border-left:3px solid gray;'><pre>\n",
       "22</pre></td><td style='text-align: left;border-left:1px solid gray;'><pre>\n",
       "22</pre></td><td style='border-left:3px solid gray;'><pre>OK</pre></td></tr><tr style='background-color:#d6e9ce;border-bottom:2px solid gray;'><td><pre><pre>verifier_aver_ages(\n",
       "  'nat2018_n20.csv',\n",
       "  58)\n",
       "</pre></pre></td><td style='text-align: left;border-left:3px solid gray;'><pre>\n",
       "12</pre></td><td style='text-align: left;border-left:1px solid gray;'><pre>\n",
       "12</pre></td><td style='border-left:3px solid gray;'><pre>OK</pre></td></tr><tr style='background-color:#d6e9ce;border-bottom:2px solid gray;'><td><pre><pre>verifier_aver_ages(\n",
       "  'nat2018_epured_5k.csv',\n",
       "  386)\n",
       "</pre></pre></td><td style='text-align: left;border-left:3px solid gray;'><pre>\n",
       "40</pre></td><td style='text-align: left;border-left:1px solid gray;'><pre>\n",
       "40</pre></td><td style='border-left:3px solid gray;'><pre>OK</pre></td></tr><tr style='background-color:#d6e9ce;border-bottom:2px solid gray;'><td><pre><pre>verifier_aver_ages(\n",
       "  'nat2018_epured_5k.csv',\n",
       "  1135)\n",
       "</pre></pre></td><td style='text-align: left;border-left:3px solid gray;'><pre>\n",
       "30</pre></td><td style='text-align: left;border-left:1px solid gray;'><pre>\n",
       "30</pre></td><td style='border-left:3px solid gray;'><pre>OK</pre></td></tr><tr style='background-color:#d6e9ce;border-bottom:2px solid gray;'><td><pre><pre>verifier_aver_ages(\n",
       "  'nat2018_r300.csv',\n",
       "  1000)\n",
       "</pre></pre></td><td style='text-align: left;border-left:3px solid gray;'><pre>\n",
       "109</pre></td><td style='text-align: left;border-left:1px solid gray;'><pre>\n",
       "109</pre></td><td style='border-left:3px solid gray;'><pre>OK</pre></td></tr><tr style='background-color:#d6e9ce;border-bottom:2px solid gray;'><td><pre><pre>verifier_aver_ages(\n",
       "  'nat2018_r300.csv',\n",
       "  2010)\n",
       "</pre></pre></td><td style='text-align: left;border-left:3px solid gray;'><pre>\n",
       "40</pre></td><td style='text-align: left;border-left:1px solid gray;'><pre>\n",
       "40</pre></td><td style='border-left:3px solid gray;'><pre>OK</pre></td></tr><tr style='background-color:#d6e9ce;border-bottom:2px solid gray;'><td><pre><pre>verifier_aver_ages(\n",
       "  'nat2018_n20.csv',\n",
       "  1690)\n",
       "</pre></pre></td><td style='text-align: left;border-left:3px solid gray;'><pre>\n",
       "5</pre></td><td style='text-align: left;border-left:1px solid gray;'><pre>\n",
       "5</pre></td><td style='border-left:3px solid gray;'><pre>OK</pre></td></tr></table>"
      ],
      "text/plain": [
       "<IPython.core.display.HTML object>"
      ]
     },
     "execution_count": 4,
     "metadata": {},
     "output_type": "execute_result"
    }
   ],
   "source": [
    "def verifier_aver_ages(fichier, index):\n",
    "    liste = importer_donnees(fichier)\n",
    "    moyennes = ages_moyens(liste)\n",
    "    return int(moyennes[index][\"average\"])\n",
    "\n",
    "exo_calcul_moyennes.correction(verifier_aver_ages)"
   ]
  },
  {
   "cell_type": "markdown",
   "metadata": {},
   "source": [
    "## Exploiter les données\n",
    "\n",
    "Nous avons maintenant à notre disposition 2 structures de données : \n",
    "* Une structure \"brute\" contenant les données de départ.\n",
    "* Une structure calculée contenant les ages moyens par prénom et par sexe.\n",
    "\n",
    "L'objectif maintenant est d'effectuer des traitements sur ces données afin d'en extraire des informations, des indicateurs ou une analyse.\n",
    "\n",
    "<div style=\"width: 95%;border: 1px solid gray;margin: 20px;  margin-left: auto; margin-right: auto;padding: 5px; background-color: lightyellow\">\n",
    "    <b>Répartition du travail</b><br/>\n",
    "    Les objectifs suivants ne peuvent être faits seuls dans le temps imparti. Répartissez-vous les tâches et entre-aidez vous.\n",
    "</div>\n"
   ]
  },
  {
   "cell_type": "markdown",
   "metadata": {},
   "source": [
    "### Créer des Top 5\n",
    "Ci-dessous les informations nécessaires à la réalisation de cette partie.\n",
    "\n",
    "\n",
    "<table style=\"width:95%; \">\n",
    "    <tr>\n",
    "        <td style=\"border: 1px solid gray;padding: 5px;text-align:left\" colspan=\"2\">\n",
    "            <b>Résultat attendu</b><br/>\n",
    "            <p>Il s'agit ici d'écrire une fonction qui renvoi les 5 prénoms les plus jeunes sur la base de l'age moyen calculé dans la seconde structure. </p>\n",
    "        </td>\n",
    "    </tr>\n",
    "    <tr>\n",
    "        <td style=\"border: 1px solid gray;padding: 5px;text-align:left\">\n",
    "            <b>Coup de pouce</b><br/>\n",
    "            <p>Une façon </p>\n",
    "        </td>\n",
    "        <td style=\"border: 1px solid gray;padding: 5px;text-align:left\">\n",
    "            <b>Idée défi</b><br/>\n",
    "            <p>Déjà fini ? Si ce n'est pas encore fait, envisagez d'optimiser votre programme :<ul>\n",
    "                <li>avec des \"slices\" (voir google).</li>\n",
    "                <li>Si vous passez par des structures intermédiaires, envisagez de les créer \"par compréhension\" (voir google).</li>\n",
    "                </ul>\n",
    "            </p>\n",
    "        </td>\n",
    "    </tr>\n",
    "</table>"
   ]
  },
  {
   "cell_type": "code",
   "execution_count": null,
   "metadata": {},
   "outputs": [],
   "source": [
    "# Votre fonction de traitement ici"
   ]
  },
  {
   "cell_type": "markdown",
   "metadata": {},
   "source": [
    "### Retourner l'age moyen d'un prénom donné\n",
    "\n"
   ]
  },
  {
   "cell_type": "code",
   "execution_count": null,
   "metadata": {},
   "outputs": [],
   "source": [
    "# Votre fonction de traitement ici"
   ]
  },
  {
   "cell_type": "markdown",
   "metadata": {},
   "source": [
    "# BROUILLON"
   ]
  },
  {
   "cell_type": "code",
   "execution_count": null,
   "metadata": {},
   "outputs": [],
   "source": [
    "data = importer_donnees(\"nat2018_epured_5k.csv\")\n",
    "avg = ages_moyens(data)"
   ]
  },
  {
   "cell_type": "code",
   "execution_count": null,
   "metadata": {
    "scrolled": false
   },
   "outputs": [],
   "source": [
    "avg.sort(key=lambda elem: elem[\"average\"], reverse=True)\n",
    "avg"
   ]
  },
  {
   "cell_type": "code",
   "execution_count": null,
   "metadata": {},
   "outputs": [],
   "source": []
  }
 ],
 "metadata": {
  "kernelspec": {
   "display_name": "Python 3",
   "language": "python",
   "name": "python3"
  },
  "language_info": {
   "codemirror_mode": {
    "name": "ipython",
    "version": 3
   },
   "file_extension": ".py",
   "mimetype": "text/x-python",
   "name": "python",
   "nbconvert_exporter": "python",
   "pygments_lexer": "ipython3",
   "version": "3.7.6"
  }
 },
 "nbformat": 4,
 "nbformat_minor": 4
}
