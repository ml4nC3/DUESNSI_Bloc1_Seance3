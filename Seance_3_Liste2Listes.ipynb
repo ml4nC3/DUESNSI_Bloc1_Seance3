{
 "cells": [
  {
   "cell_type": "markdown",
   "metadata": {},
   "source": [
    "# Séance 3\n",
    "## Introduction\n",
    "Le but de cette séance est de procéder à diverses opérations sur une structure de donnée afin d'en identifier les avantages et inconvénients et les comparer avec d'autres.\n",
    "\n",
    "Dans cette séance vous travaillerez sur une liste de listes."
   ]
  },
  {
   "cell_type": "markdown",
   "metadata": {},
   "source": [
    "### Rappels et reprise de la séance précédente\n",
    "Mais avant il nous faut reprendre comme point de départ les étapes réalisées dans les séances précédente. Commençons donc par importer nos outils et nos données.\n",
    "\n",
    "#### Imports des librairies nécessaires"
   ]
  },
  {
   "cell_type": "code",
   "execution_count": 1,
   "metadata": {},
   "outputs": [],
   "source": [
    "import csv    # import de la librairie CSV permettant la manipulation des fichiers (voir séance 1)\n",
    "from PythonSeance3.l2l_s3_correction import exo_import_donnee, exo_calcul_moyennes"
   ]
  },
  {
   "cell_type": "markdown",
   "metadata": {},
   "source": [
    "#### Import des données CSV\n",
    "Ecrivez ci-dessous le code de chargement du fichier passé en paramètre.\n",
    "Les noms de fichiers à votre disposition sont (du plus lourd au plus léger) :\n",
    "- nat2018_epured_5k.csv\n",
    "- nat2018_n20.csv\n",
    "- nat2018_r300.csv"
   ]
  },
  {
   "cell_type": "code",
   "execution_count": null,
   "metadata": {},
   "outputs": [],
   "source": [
    "def importer_donnees(fichier):\n",
    "    #-------------------------\n",
    "    # insérez votre code ici  |\n",
    "    #-------------------------\n",
    "    return \n",
    "            # Retrournez les donnés chargées sous forme de liste de lignes (objet de type 'list')\n",
    "            # chaque ligne étant une liste des valeurs du fichier chargé\n",
    "            # Le format attendu est [ String, String, Int, Int ]"
   ]
  },
  {
   "cell_type": "code",
   "execution_count": 2,
   "metadata": {},
   "outputs": [],
   "source": [
    "#!!!!!!!!!!!!!!!!\n",
    "# CORRECTION  !!!\n",
    "# A SUPPRIMER !!!\n",
    "#!!!!!!!!!!!!!!!!\n",
    "\n",
    "def importer_donnees(fichier):\n",
    "    with open(fichier, encoding='utf-8-sig') as nat_file:\n",
    "        nat_data = csv.reader(nat_file, delimiter=';')\n",
    "        nat_list = []\n",
    "        for row in nat_data:\n",
    "            if nat_data.line_num == 1:\n",
    "                nat_list.append(row)\n",
    "            else:\n",
    "                nat_list.append([row[0], row[1], int(row[2]), int(row[3])])\n",
    "    return nat_list"
   ]
  },
  {
   "cell_type": "code",
   "execution_count": null,
   "metadata": {},
   "outputs": [],
   "source": [
    "exo_import_donnee.example(3)"
   ]
  },
  {
   "cell_type": "markdown",
   "metadata": {},
   "source": [
    "##### Vérification de la fonction d'import de donnée\n",
    "Exécutez la cellule ci-dessous pour vérifier le bon fonctionnement de votre code."
   ]
  },
  {
   "cell_type": "code",
   "execution_count": 3,
   "metadata": {},
   "outputs": [
    {
     "data": {
      "text/html": [
       "<table style='font-family:monospace;font-size:small;'><tr style='font-family:monospace;font-size:medium;'><th style='text-align: center;'><pre>Appel</pre></th><th style='text-align: center;'><pre>Attendu</pre></th><th style='text-align: center;'><pre>Obtenu</pre></th><th style='text-align: center;'><pre></pre></th></tr><tr style='background-color:#d6e9ce;border-bottom:2px solid gray;'><td><pre><pre>verifier_donnees(\n",
       "  'nat2018_epured_5k.csv',\n",
       "  1045)\n",
       "</pre></pre></td><td style='text-align: left;border-left:3px solid gray;'><pre>\n",
       "['1', 'AMAR', 1978, 87]</pre></td><td style='text-align: left;border-left:1px solid gray;'><pre>\n",
       "['1', 'AMAR', 1978, 87]</pre></td><td style='border-left:3px solid gray;'><pre>OK</pre></td></tr><tr style='background-color:#d6e9ce;border-bottom:2px solid gray;'><td><pre>verifier_donnees('nat2018_r300.csv', 24)</pre></td><td style='text-align: left;border-left:3px solid gray;'><pre>\n",
       "['1', 'ADELAIDE', 1916, 3]</pre></td><td style='text-align: left;border-left:1px solid gray;'><pre>\n",
       "['1', 'ADELAIDE', 1916, 3]</pre></td><td style='border-left:3px solid gray;'><pre>OK</pre></td></tr><tr style='background-color:#d6e9ce;border-bottom:2px solid gray;'><td><pre><pre>verifier_donnees(\n",
       "  'nat2018_n20.csv',\n",
       "  12960)\n",
       "</pre></pre></td><td style='text-align: left;border-left:3px solid gray;'><pre>\n",
       "['1', 'TYMÉHO', 2013, 3]</pre></td><td style='text-align: left;border-left:1px solid gray;'><pre>\n",
       "['1', 'TYMÉHO', 2013, 3]</pre></td><td style='border-left:3px solid gray;'><pre>OK</pre></td></tr><tr style='background-color:#d6e9ce;border-bottom:2px solid gray;'><td><pre><pre>verifier_donnees(\n",
       "  'nat2018_epured_5k.csv',\n",
       "  386)\n",
       "</pre></pre></td><td style='text-align: left;border-left:3px solid gray;'><pre>\n",
       "['1', 'ADRIAN', 1999, 133]</pre></td><td style='text-align: left;border-left:1px solid gray;'><pre>\n",
       "['1', 'ADRIAN', 1999, 133]</pre></td><td style='border-left:3px solid gray;'><pre>OK</pre></td></tr><tr style='background-color:#d6e9ce;border-bottom:2px solid gray;'><td><pre><pre>verifier_donnees(\n",
       "  'nat2018_epured_5k.csv',\n",
       "  85033)\n",
       "</pre></pre></td><td style='text-align: left;border-left:3px solid gray;'><pre>\n",
       "['2', '_PRENOMS_RARES', 2018, 27868]</pre></td><td style='text-align: left;border-left:1px solid gray;'><pre>\n",
       "['2', '_PRENOMS_RARES', 2018, 27868]</pre></td><td style='border-left:3px solid gray;'><pre>OK</pre></td></tr><tr style='background-color:#d6e9ce;border-bottom:2px solid gray;'><td><pre><pre>verifier_donnees(\n",
       "  'nat2018_r300.csv',\n",
       "  1043)\n",
       "</pre></pre></td><td style='text-align: left;border-left:3px solid gray;'><pre>\n",
       "['2', 'BAPTISTINE', 1900, 157]</pre></td><td style='text-align: left;border-left:1px solid gray;'><pre>\n",
       "['2', 'BAPTISTINE', 1900, 157]</pre></td><td style='border-left:3px solid gray;'><pre>OK</pre></td></tr><tr style='background-color:#d6e9ce;border-bottom:2px solid gray;'><td><pre><pre>verifier_donnees(\n",
       "  'nat2018_r300.csv',\n",
       "  2011)\n",
       "</pre></pre></td><td style='text-align: left;border-left:3px solid gray;'><pre>\n",
       "['2', 'ÉRIKA', 1980, 5]</pre></td><td style='text-align: left;border-left:1px solid gray;'><pre>\n",
       "['2', 'ÉRIKA', 1980, 5]</pre></td><td style='border-left:3px solid gray;'><pre>OK</pre></td></tr><tr style='background-color:#d6e9ce;border-bottom:2px solid gray;'><td><pre><pre>verifier_donnees(\n",
       "  'nat2018_n20.csv',\n",
       "  30082)\n",
       "</pre></pre></td><td style='text-align: left;border-left:3px solid gray;'><pre>\n",
       "['2', 'ÉYA', 2018, 3]</pre></td><td style='text-align: left;border-left:1px solid gray;'><pre>\n",
       "['2', 'ÉYA', 2018, 3]</pre></td><td style='border-left:3px solid gray;'><pre>OK</pre></td></tr></table>"
      ],
      "text/plain": [
       "<IPython.core.display.HTML object>"
      ]
     },
     "execution_count": 3,
     "metadata": {},
     "output_type": "execute_result"
    }
   ],
   "source": [
    "# Fonction de vérification de votre code d'import de donnée.\n",
    "# Cette fonction appelle la votre et vérifie certaines lignes de la liste générée par votre import\n",
    "def verifier_import(fichier, index):\n",
    "    liste = importer_donnees(fichier)\n",
    "    return liste[index]\n",
    "\n",
    "# Puis les compare avec celles attendues\n",
    "exo_import_donnee.correction(verifier_import)"
   ]
  },
  {
   "cell_type": "markdown",
   "metadata": {},
   "source": [
    "#### Calcul de l'age moyen\n",
    "Reprenons ici le code pour calculer l'age moyen d'un prénom, puis généralisons le pour générer une table."
   ]
  },
  {
   "cell_type": "markdown",
   "metadata": {},
   "source": [
    "Reprenez ci-dessous le code permettant de calculer l'age moyen :"
   ]
  },
  {
   "cell_type": "code",
   "execution_count": null,
   "metadata": {},
   "outputs": [],
   "source": [
    "def ages_moyens(donnees):\n",
    "    #-------------------------\n",
    "    # insérez votre code ici  |\n",
    "    #-------------------------\n",
    "    return # Retrournez la liste des ages moyens"
   ]
  },
  {
   "cell_type": "code",
   "execution_count": 4,
   "metadata": {},
   "outputs": [],
   "source": [
    "#!!!!!!!!!!!!!!!!\n",
    "# CORRECTION  !!!\n",
    "# A SUPPRIMER !!!\n",
    "#!!!!!!!!!!!!!!!!\n",
    "\n",
    "def ages_moyens(datas):\n",
    "    aver_ages = [[\"sex\", \"name\", \"average_age\"], \n",
    "                 [datas[1][0], datas[1][1]]]     # Initialisation du premier nom de la liste\n",
    "    sum_ages, sum_count = 0, 0                   # Initialisation des variables de comptage\n",
    "    \n",
    "    for record in datas[1:]:\n",
    "        if record[0:2] == aver_ages[-1][0:2]: # Si le sexe et le nom sont égaux à l'enregistrement en cours\n",
    "            sum_ages = sum_ages + (2020 - record[2]) * record[3]   # Calcul de l'age pondéré par l'effectif\n",
    "            sum_count = sum_count + record[3]                      # Calcul des effectifs totaux (dénominateur)\n",
    "        else:\n",
    "            aver_ages[-1].append(sum_ages / sum_count) # Si le nom change on ajoute l'age moyen à la dernière ligne\n",
    "            aver_ages.append([record[0], record[1]])   # Ajout du nouveau nom dans une nouvelle ligne\n",
    "            sum_ages = (2020 - record[2]) * record[3]  # Calcul du premier age pondéré\n",
    "            sum_count = record[3]                      # Initialisation de la somme des effectifs\n",
    "    \n",
    "    aver_ages[-1].append(sum_ages / sum_count) # On met à jour l'age moyen du dernier prénom dans la dernière ligne\n",
    "    return aver_ages"
   ]
  },
  {
   "cell_type": "markdown",
   "metadata": {},
   "source": [
    "##### Vérification de la fonction de calcul des moyennes\n",
    "Exécutez la cellule ci-dessous pour vérifier le bon fonctionnement de votre code."
   ]
  },
  {
   "cell_type": "code",
   "execution_count": 5,
   "metadata": {},
   "outputs": [
    {
     "data": {
      "text/html": [
       "<table style='font-family:monospace;font-size:small;'><tr style='font-family:monospace;font-size:medium;'><th style='text-align: center;'><pre>Appel</pre></th><th style='text-align: center;'><pre>Attendu</pre></th><th style='text-align: center;'><pre>Obtenu</pre></th><th style='text-align: center;'><pre></pre></th></tr><tr style='background-color:#d6e9ce;border-bottom:2px solid gray;'><td><pre><pre>verifier_aver_ages(\n",
       "  'nat2018_epured_5k.csv',\n",
       "  1045)\n",
       "</pre></pre></td><td style='text-align: left;border-left:3px solid gray;'><pre>\n",
       "84</pre></td><td style='text-align: left;border-left:1px solid gray;'><pre>\n",
       "84</pre></td><td style='border-left:3px solid gray;'><pre>OK</pre></td></tr><tr style='background-color:#d6e9ce;border-bottom:2px solid gray;'><td><pre><pre>verifier_aver_ages(\n",
       "  'nat2018_r300.csv',\n",
       "  24)\n",
       "</pre></pre></td><td style='text-align: left;border-left:3px solid gray;'><pre>\n",
       "104</pre></td><td style='text-align: left;border-left:1px solid gray;'><pre>\n",
       "104</pre></td><td style='border-left:3px solid gray;'><pre>OK</pre></td></tr><tr style='background-color:#d6e9ce;border-bottom:2px solid gray;'><td><pre><pre>verifier_aver_ages(\n",
       "  'nat2018_n20.csv',\n",
       "  58)\n",
       "</pre></pre></td><td style='text-align: left;border-left:3px solid gray;'><pre>\n",
       "93</pre></td><td style='text-align: left;border-left:1px solid gray;'><pre>\n",
       "93</pre></td><td style='border-left:3px solid gray;'><pre>OK</pre></td></tr><tr style='background-color:#d6e9ce;border-bottom:2px solid gray;'><td><pre><pre>verifier_aver_ages(\n",
       "  'nat2018_epured_5k.csv',\n",
       "  386)\n",
       "</pre></pre></td><td style='text-align: left;border-left:3px solid gray;'><pre>\n",
       "60</pre></td><td style='text-align: left;border-left:1px solid gray;'><pre>\n",
       "60</pre></td><td style='border-left:3px solid gray;'><pre>OK</pre></td></tr><tr style='background-color:#d6e9ce;border-bottom:2px solid gray;'><td><pre><pre>verifier_aver_ages(\n",
       "  'nat2018_epured_5k.csv',\n",
       "  1136)\n",
       "</pre></pre></td><td style='text-align: left;border-left:3px solid gray;'><pre>\n",
       "30</pre></td><td style='text-align: left;border-left:1px solid gray;'><pre>\n",
       "30</pre></td><td style='border-left:3px solid gray;'><pre>OK</pre></td></tr><tr style='background-color:#d6e9ce;border-bottom:2px solid gray;'><td><pre><pre>verifier_aver_ages(\n",
       "  'nat2018_r300.csv',\n",
       "  1000)\n",
       "</pre></pre></td><td style='text-align: left;border-left:3px solid gray;'><pre>\n",
       "118</pre></td><td style='text-align: left;border-left:1px solid gray;'><pre>\n",
       "118</pre></td><td style='border-left:3px solid gray;'><pre>OK</pre></td></tr><tr style='background-color:#d6e9ce;border-bottom:2px solid gray;'><td><pre><pre>verifier_aver_ages(\n",
       "  'nat2018_r300.csv',\n",
       "  2011)\n",
       "</pre></pre></td><td style='text-align: left;border-left:3px solid gray;'><pre>\n",
       "40</pre></td><td style='text-align: left;border-left:1px solid gray;'><pre>\n",
       "40</pre></td><td style='border-left:3px solid gray;'><pre>OK</pre></td></tr><tr style='background-color:#d6e9ce;border-bottom:2px solid gray;'><td><pre><pre>verifier_aver_ages(\n",
       "  'nat2018_n20.csv',\n",
       "  1691)\n",
       "</pre></pre></td><td style='text-align: left;border-left:3px solid gray;'><pre>\n",
       "5</pre></td><td style='text-align: left;border-left:1px solid gray;'><pre>\n",
       "5</pre></td><td style='border-left:3px solid gray;'><pre>OK</pre></td></tr></table>"
      ],
      "text/plain": [
       "<IPython.core.display.HTML object>"
      ]
     },
     "execution_count": 5,
     "metadata": {},
     "output_type": "execute_result"
    }
   ],
   "source": [
    "def verifier_aver_ages(fichier, index):\n",
    "    liste = importer_donnees(fichier)\n",
    "    moyennes = ages_moyens(liste)\n",
    "    return int(moyennes[index][2])\n",
    "\n",
    "exo_calcul_moyennes.correction(verifier_aver_ages)"
   ]
  },
  {
   "cell_type": "markdown",
   "metadata": {},
   "source": [
    "## Comment obtenir les 5 plus jeunes et les 5 plus vieux prénoms ? \n",
    "\n",
    "Maintenant que nous avons une structure de donnée calculée"
   ]
  },
  {
   "cell_type": "code",
   "execution_count": null,
   "metadata": {},
   "outputs": [],
   "source": []
  }
 ],
 "metadata": {
  "kernelspec": {
   "display_name": "Python 3",
   "language": "python",
   "name": "python3"
  },
  "language_info": {
   "codemirror_mode": {
    "name": "ipython",
    "version": 3
   },
   "file_extension": ".py",
   "mimetype": "text/x-python",
   "name": "python",
   "nbconvert_exporter": "python",
   "pygments_lexer": "ipython3",
   "version": "3.7.6"
  }
 },
 "nbformat": 4,
 "nbformat_minor": 4
}
