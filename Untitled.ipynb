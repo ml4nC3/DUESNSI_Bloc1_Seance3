{
 "cells": [
  {
   "cell_type": "code",
   "execution_count": 1,
   "metadata": {},
   "outputs": [
    {
     "data": {
      "text/plain": [
       "'élément 2'"
      ]
     },
     "execution_count": 1,
     "metadata": {},
     "output_type": "execute_result"
    }
   ],
   "source": [
    "# Liste\n",
    "# Délimité par les brackets [] et valeurs séparées par ,\n",
    "ma_liste = [ \"élément 1\", \"élément 2\", \"élément 3\"]\n",
    "# Pour une liste, la clé est l'index de position de la donnée :\n",
    "ma_liste[1]"
   ]
  },
  {
   "cell_type": "code",
   "execution_count": 2,
   "metadata": {},
   "outputs": [
    {
     "data": {
      "text/plain": [
       "'élément 2'"
      ]
     },
     "execution_count": 2,
     "metadata": {},
     "output_type": "execute_result"
    }
   ],
   "source": [
    "# Dictionnaire\n",
    "# Délimité par les brackets {} et valeurs séparées par ,\n",
    "mon_dico = {\"clé 0\": \"élément 1\", \n",
    "            \"clé 1\": \"élément 2\", \n",
    "            \"clé 2\": \"élément 3\"}\n",
    "# Pour un dico la clé d'accès à la donnée\n",
    "# est explicitée à la création :\n",
    "mon_dico[\"clé 1\"]"
   ]
  },
  {
   "cell_type": "code",
   "execution_count": 5,
   "metadata": {},
   "outputs": [
    {
     "name": "stdout",
     "output_type": "stream",
     "text": [
      "Liste :\n",
      "élément 1\n",
      "élément 2\n",
      "élément 3\n",
      "Dictionnaire :\n",
      "élément 1\n",
      "élément 2\n",
      "élément 3\n"
     ]
    }
   ],
   "source": [
    "# Parcourir les valeurs de la liste :\n",
    "print(\"Liste :\")\n",
    "for valeur in ma_liste :\n",
    "    print(valeur)\n",
    "\n",
    "# Parcourir les valeurs du dictionnaire :\n",
    "print(\"Dictionnaire :\")\n",
    "for cle in mon_dico.keys():\n",
    "    print(mon_dico[cle])\n"
   ]
  },
  {
   "cell_type": "code",
   "execution_count": 9,
   "metadata": {},
   "outputs": [],
   "source": [
    "import csv    # import de la librairie CSV permettant la manipulation des fichiers (voir séance 1)\n",
    "def importer_donnees(fichier):\n",
    "    with open(fichier, encoding='utf-8-sig') as nat_file:\n",
    "        nat_data = csv.reader(nat_file, delimiter=';')\n",
    "        nat_list = {}\n",
    "        for row in nat_data:\n",
    "            if nat_data.line_num != 1:\n",
    "                if \n",
    "                nat_list.append([row[0], row[1], int(row[2]), int(row[3])])\n",
    "    return nat_list"
   ]
  },
  {
   "cell_type": "code",
   "execution_count": 11,
   "metadata": {},
   "outputs": [],
   "source": [
    "data = importer_donnees(\"nat2018_epured_5k.csv\")"
   ]
  },
  {
   "cell_type": "code",
   "execution_count": null,
   "metadata": {},
   "outputs": [],
   "source": [
    "nat_list.append([row[0], row[1], int(row[2]), int(row[3])])"
   ]
  },
  {
   "cell_type": "code",
   "execution_count": 21,
   "metadata": {},
   "outputs": [
    {
     "data": {
      "text/plain": [
       "[['1', 'ANNICK', 1958, 3],\n",
       " ['1', 'ANNICK', 1959, 5],\n",
       " ['1', 'ANNICK', 1962, 3],\n",
       " ['1', 'ANNICK', 1963, 5],\n",
       " ['1', 'ANOUK', 1979, 3],\n",
       " ['1', 'ANOUK', 2003, 3],\n",
       " ['1', 'ANTHONY', 1904, 3],\n",
       " ['1', 'ANTHONY', 1927, 4]]"
      ]
     },
     "execution_count": 21,
     "metadata": {},
     "output_type": "execute_result"
    }
   ],
   "source": [
    "data[1662:1670]"
   ]
  },
  {
   "cell_type": "code",
   "execution_count": 22,
   "metadata": {
    "scrolled": true
   },
   "outputs": [
    {
     "data": {
      "text/plain": [
       "'ANNICK'"
      ]
     },
     "execution_count": 22,
     "metadata": {},
     "output_type": "execute_result"
    }
   ],
   "source": [
    "# data[index_ligne][index_colonne]\n",
    "data[1664][1]"
   ]
  },
  {
   "cell_type": "code",
   "execution_count": 23,
   "metadata": {},
   "outputs": [],
   "source": [
    "def ages_moyens(datas):\n",
    "    aver_ages = [[\"sex\", \"name\", \"average_age\"], \n",
    "                 [datas[1][0], datas[1][1]]]     # Initialisation du premier nom de la liste\n",
    "    sum_ages, sum_count = 0, 0                   # Initialisation des variables de comptage\n",
    "    \n",
    "    for record in datas[1:]:\n",
    "        if record[0:2] == aver_ages[-1][0:2]: # Si le sexe et le nom sont égaux à l'enregistrement en cours\n",
    "            sum_ages = sum_ages + (2020 - record[2]) * record[3]   # Calcul de l'age pondéré par l'effectif\n",
    "            sum_count = sum_count + record[3]                      # Calcul des effectifs totaux (dénominateur)\n",
    "        else:\n",
    "            aver_ages[-1].append(sum_ages / sum_count) # Si le nom change on ajoute l'age moyen à la dernière ligne\n",
    "            aver_ages.append([record[0], record[1]])   # Ajout du nouveau nom dans une nouvelle ligne\n",
    "            sum_ages = (2020 - record[2]) * record[3]  # Calcul du premier age pondéré\n",
    "            sum_count = record[3]                      # Initialisation de la somme des effectifs\n",
    "    \n",
    "    aver_ages[-1].append(sum_ages / sum_count) # On met à jour l'age moyen du dernier prénom dans la dernière ligne\n",
    "    return aver_ages"
   ]
  },
  {
   "cell_type": "code",
   "execution_count": null,
   "metadata": {},
   "outputs": [],
   "source": [
    "def ages_moyens(datas):\n",
    "    aver_ages = [{\"sexe\": datas[0][\"sexe\"], \"prenom\": datas[0][\"prenom\"]}]  # Initialisation du premier nom de la liste\n",
    "    sum_ages, sum_count = 0, 0                                        # Initialisation des variables de comptage\n",
    "    \n",
    "    for record in datas:\n",
    "        if (record[\"sexe\"], record[\"prenom\"]) == (aver_ages[-1][\"sexe\"], aver_ages[-1][\"prenom\"]): \n",
    "            # Si le sexe et le nom sont égaux à l'enregistrement en cours\n",
    "            sum_ages = sum_ages + (2020 - record[\"annee\"]) * record[\"effectif\"]   # Calcul de l'age pondéré par l'effectif\n",
    "            sum_count = sum_count + record[\"effectif\"]                            # Calcul des effectifs totaux (dénominateur)\n",
    "        else:\n",
    "            # Si le nom change on ajoute l'age moyen à la dernière ligne\n",
    "            aver_ages[-1][\"average\"] = sum_ages / sum_count \n",
    "            aver_ages.append({\"sexe\": record[\"sexe\"], \"prenom\": record[\"prenom\"]})   # Ajout du nouveau nom dans une nouvelle ligne\n",
    "            sum_ages = (2020 - record[\"annee\"]) * record[\"effectif\"]                  # Calcul du premier age pondéré\n",
    "            sum_count = record[\"effectif\"]                                           # Initialisation de la somme des effectifs\n",
    "    \n",
    "    aver_ages[-1][\"average\"] = sum_ages / sum_count  # On met à jour l'age moyen du dernier prénom dans la dernière ligne\n",
    "    return aver_ages"
   ]
  },
  {
   "cell_type": "code",
   "execution_count": null,
   "metadata": {},
   "outputs": [],
   "source": [
    "def ages_moyens(data):\n",
    "    aver_ages = dict()\n",
    "    for name in data.keys():\n",
    "        calc = {0: {\"sum_ages\": 0, \"sum_births\": 0}, \n",
    "                1: {\"sum_ages\": 0, \"sum_births\": 0}}\n",
    "        # Parcours des années enregistrées pour le prénom\n",
    "        for year in data[name].keys():\n",
    "            # Calcul des variables pour hommes puis femmes\n",
    "            for gender, births in enumerate(data[name][year]):\n",
    "                calc[gender][\"sum_ages\"] += (2020 - year) * births  # Somme des ages pondérée par les naissances\n",
    "                calc[gender][\"sum_births\"] += births                # Somme des naissances\n",
    "        \n",
    "        # Initalisation du dictionnaire pour le prénom en cours\n",
    "        aver_ages[name] = dict()\n",
    "        \n",
    "        # Calcul de l'age moyen pondéré total\n",
    "        total_ages   = calc[0][\"sum_ages\"] + calc[1][\"sum_ages\"]\n",
    "        total_births = calc[0][\"sum_births\"] + calc[1][\"sum_births\"]\n",
    "        aver_ages[name][\"total\"] = total_ages / total_births\n",
    "        \n",
    "        # Gestion du cas de division par 0 et calcul pour hommes et femmes\n",
    "        if calc[0][\"sum_births\"] != 0:\n",
    "            aver_ages[name][\"hommes\"] = calc[0][\"sum_ages\"] / calc[0][\"sum_births\"]\n",
    "        \n",
    "        if calc[1][\"sum_births\"] != 0:\n",
    "            aver_ages[name][\"femmes\"] = calc[1][\"sum_ages\"] / calc[1][\"sum_births\"]        \n",
    "    \n",
    "    return aver_ages"
   ]
  }
 ],
 "metadata": {
  "kernelspec": {
   "display_name": "Python 3",
   "language": "python",
   "name": "python3"
  },
  "language_info": {
   "codemirror_mode": {
    "name": "ipython",
    "version": 3
   },
   "file_extension": ".py",
   "mimetype": "text/x-python",
   "name": "python",
   "nbconvert_exporter": "python",
   "pygments_lexer": "ipython3",
   "version": "3.7.6"
  }
 },
 "nbformat": 4,
 "nbformat_minor": 4
}
